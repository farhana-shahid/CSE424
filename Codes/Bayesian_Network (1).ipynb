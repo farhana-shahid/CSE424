{
  "nbformat": 4,
  "nbformat_minor": 0,
  "metadata": {
    "kernelspec": {
      "display_name": "R",
      "language": "R",
      "name": "ir"
    },
    "language_info": {
      "codemirror_mode": "r",
      "file_extension": ".r",
      "mimetype": "text/x-r-source",
      "name": "R",
      "pygments_lexer": "r",
      "version": "3.6.2"
    },
    "colab": {
      "name": "Bayesian Network.ipynb",
      "provenance": []
    }
  },
  "cells": [
    {
      "cell_type": "markdown",
      "metadata": {
        "id": "LNfsHdFlYZTM",
        "colab_type": "text"
      },
      "source": [
        "# Bayesian Network"
      ]
    },
    {
      "cell_type": "markdown",
      "metadata": {
        "id": "YEuM-Nb-YfvO",
        "colab_type": "text"
      },
      "source": [
        "1.   To program in R, either install [R](https://cran.r-project.org/bin/) or [RStudio](https://rstudio.com/products/rstudio/download/)\n",
        "2.   You may also use Jupyter Notebook to program in R. Follow the steps [here](https://dzone.com/articles/using-r-on-jupyternbspnotebook).\n",
        "3.   Install the necessary libraries for this program using the command from your R console or R studio: `install.packages(c(\"bnlearn\",\"xlsx\"))`\n",
        "4.   To visualize the network install another library using the following commands:\n",
        "\n",
        "```\n",
        "    if (!requireNamespace(\"BiocManager\", quietly = TRUE))\n",
        "        install.packages(\"BiocManager\")\n",
        "    BiocManager::install(\"Rgraphviz\")\n",
        "```"
      ]
    },
    {
      "cell_type": "markdown",
      "metadata": {
        "id": "BluOliTwYhZV",
        "colab_type": "text"
      },
      "source": [
        "\n",
        "\n",
        "---\n",
        "\n"
      ]
    },
    {
      "cell_type": "code",
      "metadata": {
        "id": "8_0GXyOCYRpO",
        "colab_type": "code",
        "colab": {},
        "outputId": "38c63d69-a179-4059-a8c6-3437603f2f67"
      },
      "source": [
        "# load the required library to learn Bayesian Network from the dataset\n",
        "library(bnlearn)"
      ],
      "execution_count": null,
      "outputs": [
        {
          "output_type": "stream",
          "text": [
            "Warning message:\n",
            "\"package 'bnlearn' was built under R version 3.6.3\"\n",
            "\n",
            "Attaching package: 'bnlearn'\n",
            "\n",
            "\n",
            "The following object is masked from 'package:stats':\n",
            "\n",
            "    sigma\n",
            "\n",
            "\n"
          ],
          "name": "stderr"
        }
      ]
    },
    {
      "cell_type": "code",
      "metadata": {
        "id": "VkaNKuMzYRpX",
        "colab_type": "code",
        "colab": {},
        "outputId": "d1073c16-5dbf-49de-b144-7941163ed9f5"
      },
      "source": [
        "# library to read excel files\n",
        "library(xlsx)"
      ],
      "execution_count": null,
      "outputs": [
        {
          "output_type": "stream",
          "text": [
            "Warning message:\n",
            "\"package 'xlsx' was built under R version 3.6.3\"\n"
          ],
          "name": "stderr"
        }
      ]
    },
    {
      "cell_type": "code",
      "metadata": {
        "id": "9pB5ZNKRYRpc",
        "colab_type": "code",
        "colab": {}
      },
      "source": [
        "# read the dataset\n",
        "data = read.xlsx2('../Dataset/covid19-symptoms-dataset.xlsx',sheetName = \"Sheet1\")"
      ],
      "execution_count": null,
      "outputs": []
    },
    {
      "cell_type": "code",
      "metadata": {
        "id": "GsVFvgUJYRpi",
        "colab_type": "code",
        "colab": {},
        "outputId": "66dfb560-da11-401b-a38b-00e91d569605"
      },
      "source": [
        "# let's have a glimpse\n",
        "head(data, 4)"
      ],
      "execution_count": null,
      "outputs": [
        {
          "output_type": "display_data",
          "data": {
            "text/html": [
              "<table>\n",
              "<caption>A data.frame: 4 × 5</caption>\n",
              "<thead>\n",
              "\t<tr><th></th><th scope=col>Dry.Cough</th><th scope=col>High.Fever</th><th scope=col>Sore.Throat</th><th scope=col>Difficulty.in.breathing</th><th scope=col>Infected.with.Covid19</th></tr>\n",
              "\t<tr><th></th><th scope=col>&lt;fct&gt;</th><th scope=col>&lt;fct&gt;</th><th scope=col>&lt;fct&gt;</th><th scope=col>&lt;fct&gt;</th><th scope=col>&lt;fct&gt;</th></tr>\n",
              "</thead>\n",
              "<tbody>\n",
              "\t<tr><th scope=row>1</th><td>0 </td><td>2 </td><td>3 </td><td>0 </td><td>No </td></tr>\n",
              "\t<tr><th scope=row>2</th><td>15</td><td>15</td><td>20</td><td>16</td><td>Yes</td></tr>\n",
              "\t<tr><th scope=row>3</th><td>4 </td><td>5 </td><td>0 </td><td>0 </td><td>No </td></tr>\n",
              "\t<tr><th scope=row>4</th><td>4 </td><td>7 </td><td>9 </td><td>10</td><td>No </td></tr>\n",
              "</tbody>\n",
              "</table>\n"
            ],
            "text/latex": "A data.frame: 4 × 5\n\\begin{tabular}{r|lllll}\n  & Dry.Cough & High.Fever & Sore.Throat & Difficulty.in.breathing & Infected.with.Covid19\\\\\n  & <fct> & <fct> & <fct> & <fct> & <fct>\\\\\n\\hline\n\t1 & 0  & 2  & 3  & 0  & No \\\\\n\t2 & 15 & 15 & 20 & 16 & Yes\\\\\n\t3 & 4  & 5  & 0  & 0  & No \\\\\n\t4 & 4  & 7  & 9  & 10 & No \\\\\n\\end{tabular}\n",
            "text/markdown": "\nA data.frame: 4 × 5\n\n| <!--/--> | Dry.Cough &lt;fct&gt; | High.Fever &lt;fct&gt; | Sore.Throat &lt;fct&gt; | Difficulty.in.breathing &lt;fct&gt; | Infected.with.Covid19 &lt;fct&gt; |\n|---|---|---|---|---|---|\n| 1 | 0  | 2  | 3  | 0  | No  |\n| 2 | 15 | 15 | 20 | 16 | Yes |\n| 3 | 4  | 5  | 0  | 0  | No  |\n| 4 | 4  | 7  | 9  | 10 | No  |\n\n",
            "text/plain": [
              "  Dry.Cough High.Fever Sore.Throat Difficulty.in.breathing\n",
              "1 0         2          3           0                      \n",
              "2 15        15         20          16                     \n",
              "3 4         5          0           0                      \n",
              "4 4         7          9           10                     \n",
              "  Infected.with.Covid19\n",
              "1 No                   \n",
              "2 Yes                  \n",
              "3 No                   \n",
              "4 No                   "
            ]
          },
          "metadata": {
            "tags": []
          }
        }
      ]
    },
    {
      "cell_type": "markdown",
      "metadata": {
        "id": "axCvhN8XYyPy",
        "colab_type": "text"
      },
      "source": [
        "We can rename the columns in the following way"
      ]
    },
    {
      "cell_type": "code",
      "metadata": {
        "id": "gzVy9t6IYRpn",
        "colab_type": "code",
        "colab": {}
      },
      "source": [
        "colnames(data)= c(\"Cough\", \"Fever\", \"Throat\", \"Difficulty Breathing\", \"COVID-19\")"
      ],
      "execution_count": null,
      "outputs": []
    },
    {
      "cell_type": "markdown",
      "metadata": {
        "id": "k-RpcNBrY4Rn",
        "colab_type": "text"
      },
      "source": [
        "Here we are using Hill Climbing algorithm to learn the network from the dataset. HC evaluates based on some scoring criteria. We will use [Akaike Information Criteria](https://en.wikipedia.org/wiki/Akaike_information_criterion) for our purpose! Please visit [here](https://www.bnlearn.com/) to learn more about the package!"
      ]
    },
    {
      "cell_type": "code",
      "metadata": {
        "id": "TM_jy2azYRpt",
        "colab_type": "code",
        "colab": {}
      },
      "source": [
        "# learn the network from the dataset\n",
        "bn <- hc(data, score=\"aic\")"
      ],
      "execution_count": null,
      "outputs": []
    },
    {
      "cell_type": "code",
      "metadata": {
        "id": "KuEzJZ_9YRpx",
        "colab_type": "code",
        "colab": {}
      },
      "source": [
        "# calculate the conditional probabilities of the edges between nodes\n",
        "bns <- arc.strength(bn, data=data, criterion=\"aic\")"
      ],
      "execution_count": null,
      "outputs": []
    },
    {
      "cell_type": "code",
      "metadata": {
        "id": "vsLPRGi7YRp3",
        "colab_type": "code",
        "colab": {},
        "outputId": "c34bb2a5-dd47-4dfe-9fc5-a6895f92fdb3"
      },
      "source": [
        "# plot the network\n",
        "g <- Rgraphviz::layoutGraph(strength.plot(bn,bns))\n",
        "graph::nodeRenderInfo(g) <- list(fontsize=40)\n",
        "Rgraphviz::renderGraph(g)"
      ],
      "execution_count": null,
      "outputs": [
        {
          "output_type": "display_data",
          "data": {
            "image/png": "[encoded data removed]",
            "text/plain": [
              "plot without title"
            ]
          },
          "metadata": {
            "tags": [],
            "image/png": {
              "height": 420,
              "width": 420
            },
            "text/plain": {
              "height": 420,
              "width": 420
            }
          }
        },
        {
          "output_type": "display_data",
          "data": {
            "image/png": "[encoded data removed]",
            "text/plain": [
              "plot without title"
            ]
          },
          "metadata": {
            "tags": [],
            "image/png": {
              "height": 420,
              "width": 420
            },
            "text/plain": {
              "height": 420,
              "width": 420
            }
          }
        }
      ]
    },
    {
      "cell_type": "code",
      "metadata": {
        "id": "skX63zJ0YRp7",
        "colab_type": "code",
        "colab": {}
      },
      "source": [
        ""
      ],
      "execution_count": null,
      "outputs": []
    }
  ]
}