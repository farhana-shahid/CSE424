{
 "cells": [
  {
   "cell_type": "markdown",
   "metadata": {
    "colab_type": "text",
    "id": "X2BjxNSecGvy"
   },
   "source": [
    "# Gaussian Naive Bayes Classifier\n",
    "\n",
    "---\n",
    "\n"
   ]
  },
  {
   "cell_type": "markdown",
   "metadata": {
    "colab_type": "text",
    "id": "b7JaQOdaUQNE"
   },
   "source": [
    "\n",
    "\n",
    "*   Install *pandas* library\n",
    "*   Install using *anaconda prompt*: `conda install pandas`\n",
    "*   Install using *cmd*: `pip install pandas`\n",
    "*   [Read excel file](https://pandas.pydata.org/pandas-docs/stable/reference/api/pandas.read_excel.html) using pandas\n",
    "*   [Read csv file](https://pandas.pydata.org/pandas-docs/stable/reference/api/pandas.read_csv.html) using pandas\n",
    "*   You can read a txt file using *read_csv* method. [Check here](https://kite.com/python/answers/how-to-read-a-text-file-with-pandas-in-python)!\n",
    "\n",
    "\n",
    "\n",
    "\n",
    "\n",
    "\n"
   ]
  },
  {
   "cell_type": "code",
   "execution_count": 1,
   "metadata": {
    "colab": {
     "base_uri": "https://localhost:8080/",
     "height": 136
    },
    "colab_type": "code",
    "id": "eaCaFZrvUKA9",
    "outputId": "275c0121-a0f0-407e-f274-cf2c1e72ffb6"
   },
   "outputs": [
    {
     "data": {
      "text/html": [
       "<div>\n",
       "<style scoped>\n",
       "    .dataframe tbody tr th:only-of-type {\n",
       "        vertical-align: middle;\n",
       "    }\n",
       "\n",
       "    .dataframe tbody tr th {\n",
       "        vertical-align: top;\n",
       "    }\n",
       "\n",
       "    .dataframe thead th {\n",
       "        text-align: right;\n",
       "    }\n",
       "</style>\n",
       "<table border=\"1\" class=\"dataframe\">\n",
       "  <thead>\n",
       "    <tr style=\"text-align: right;\">\n",
       "      <th></th>\n",
       "      <th>name</th>\n",
       "      <th>diameter</th>\n",
       "      <th>weight</th>\n",
       "      <th>red</th>\n",
       "      <th>green</th>\n",
       "      <th>blue</th>\n",
       "    </tr>\n",
       "  </thead>\n",
       "  <tbody>\n",
       "    <tr>\n",
       "      <td>0</td>\n",
       "      <td>orange</td>\n",
       "      <td>2.96</td>\n",
       "      <td>86.76</td>\n",
       "      <td>172</td>\n",
       "      <td>85</td>\n",
       "      <td>2</td>\n",
       "    </tr>\n",
       "    <tr>\n",
       "      <td>1</td>\n",
       "      <td>orange</td>\n",
       "      <td>3.91</td>\n",
       "      <td>88.05</td>\n",
       "      <td>166</td>\n",
       "      <td>78</td>\n",
       "      <td>3</td>\n",
       "    </tr>\n",
       "    <tr>\n",
       "      <td>2</td>\n",
       "      <td>orange</td>\n",
       "      <td>4.42</td>\n",
       "      <td>95.17</td>\n",
       "      <td>156</td>\n",
       "      <td>81</td>\n",
       "      <td>2</td>\n",
       "    </tr>\n",
       "  </tbody>\n",
       "</table>\n",
       "</div>"
      ],
      "text/plain": [
       "     name  diameter  weight  red  green  blue\n",
       "0  orange      2.96   86.76  172     85     2\n",
       "1  orange      3.91   88.05  166     78     3\n",
       "2  orange      4.42   95.17  156     81     2"
      ]
     },
     "execution_count": 1,
     "metadata": {},
     "output_type": "execute_result"
    }
   ],
   "source": [
    "# we will need pandas to read our data from a csv file\n",
    "import pandas as pd\n",
    "\n",
    "# this will read the citrus.csv file and convert it to a dataframe. We have saved the dataframe in a variable named data\n",
    "data = pd.read_csv(\"../Dataset/citrus.csv\") \n",
    "\n",
    "# to check if the data has been read properly. this line will print first 3 rows\n",
    "data.head(3)"
   ]
  },
  {
   "cell_type": "markdown",
   "metadata": {
    "colab_type": "text",
    "id": "P0JuAVwq2bJb"
   },
   "source": [
    "\n",
    "\n",
    "*   For more details on how the [head](https://pandas.pydata.org/pandas-docs/stable/reference/api/pandas.DataFrame.head.html) function works!\n",
    "*   Also checkout the [tail](https://pandas.pydata.org/pandas-docs/stable/reference/api/pandas.DataFrame.tail.html)!\n",
    "*   To get random instances use [sample](https://pandas.pydata.org/pandas-docs/stable/reference/api/pandas.DataFrame.sample.html).\n",
    "\n",
    "---\n",
    "\n",
    "\n",
    "\n",
    "\n",
    "\n",
    "\n",
    "\n"
   ]
  },
  {
   "cell_type": "markdown",
   "metadata": {
    "colab_type": "text",
    "id": "JGvvvs4sQZQM"
   },
   "source": [
    "\n",
    "\n",
    "*   To install *scikit-learn* library either use the `pip` or `conda` commands. See [here](https://pypi.org/project/scikit-learn/).\n",
    "*   Also checkout the installation dependencies and install the required libraries beforehand if using `pip` command!! If you are using `conda`, then the dependencies will be auto-resolved during installation!\n",
    "\n",
    "\n",
    "\n",
    "\n"
   ]
  },
  {
   "cell_type": "code",
   "execution_count": 2,
   "metadata": {
    "colab": {},
    "colab_type": "code",
    "id": "5gl3fc95UKBJ"
   },
   "outputs": [],
   "source": [
    "# to separate our data into train and test set\n",
    "from sklearn.model_selection import train_test_split"
   ]
  },
  {
   "cell_type": "markdown",
   "metadata": {
    "colab_type": "text",
    "id": "KDOpfHJVRuOC"
   },
   "source": [
    "\n",
    "\n",
    "---\n",
    "\n",
    "*   For more details on indexing and selecting a subset of data from pandas dataframe, see [here](https://pandas.pydata.org/pandas-docs/stable/user_guide/indexing.html)!\n"
   ]
  },
  {
   "cell_type": "code",
   "execution_count": 3,
   "metadata": {
    "colab": {
     "base_uri": "https://localhost:8080/",
     "height": 136
    },
    "colab_type": "code",
    "id": "kO9bJBN-UKBN",
    "outputId": "7fee39c1-844f-43de-fe2f-8d8cd532f614"
   },
   "outputs": [
    {
     "data": {
      "text/html": [
       "<div>\n",
       "<style scoped>\n",
       "    .dataframe tbody tr th:only-of-type {\n",
       "        vertical-align: middle;\n",
       "    }\n",
       "\n",
       "    .dataframe tbody tr th {\n",
       "        vertical-align: top;\n",
       "    }\n",
       "\n",
       "    .dataframe thead th {\n",
       "        text-align: right;\n",
       "    }\n",
       "</style>\n",
       "<table border=\"1\" class=\"dataframe\">\n",
       "  <thead>\n",
       "    <tr style=\"text-align: right;\">\n",
       "      <th></th>\n",
       "      <th>diameter</th>\n",
       "      <th>weight</th>\n",
       "      <th>red</th>\n",
       "      <th>green</th>\n",
       "      <th>blue</th>\n",
       "    </tr>\n",
       "  </thead>\n",
       "  <tbody>\n",
       "    <tr>\n",
       "      <td>0</td>\n",
       "      <td>2.96</td>\n",
       "      <td>86.76</td>\n",
       "      <td>172</td>\n",
       "      <td>85</td>\n",
       "      <td>2</td>\n",
       "    </tr>\n",
       "    <tr>\n",
       "      <td>1</td>\n",
       "      <td>3.91</td>\n",
       "      <td>88.05</td>\n",
       "      <td>166</td>\n",
       "      <td>78</td>\n",
       "      <td>3</td>\n",
       "    </tr>\n",
       "    <tr>\n",
       "      <td>2</td>\n",
       "      <td>4.42</td>\n",
       "      <td>95.17</td>\n",
       "      <td>156</td>\n",
       "      <td>81</td>\n",
       "      <td>2</td>\n",
       "    </tr>\n",
       "  </tbody>\n",
       "</table>\n",
       "</div>"
      ],
      "text/plain": [
       "   diameter  weight  red  green  blue\n",
       "0      2.96   86.76  172     85     2\n",
       "1      3.91   88.05  166     78     3\n",
       "2      4.42   95.17  156     81     2"
      ]
     },
     "execution_count": 3,
     "metadata": {},
     "output_type": "execute_result"
    }
   ],
   "source": [
    "# separate the feature vector\n",
    "X = data.iloc[:,1:6]\n",
    "X.head(3)"
   ]
  },
  {
   "cell_type": "code",
   "execution_count": 4,
   "metadata": {
    "colab": {
     "base_uri": "https://localhost:8080/",
     "height": 84
    },
    "colab_type": "code",
    "id": "nCrAa_uRUKBR",
    "outputId": "90458f91-6701-42f0-ef44-7a82a1ac4d0e"
   },
   "outputs": [
    {
     "data": {
      "text/plain": [
       "0    orange\n",
       "1    orange\n",
       "2    orange\n",
       "Name: name, dtype: object"
      ]
     },
     "execution_count": 4,
     "metadata": {},
     "output_type": "execute_result"
    }
   ],
   "source": [
    "# separate the class labels\n",
    "y = data['name']\n",
    "y.head(3)"
   ]
  },
  {
   "cell_type": "code",
   "execution_count": 5,
   "metadata": {
    "colab": {},
    "colab_type": "code",
    "id": "PwsIoiTnUKBW"
   },
   "outputs": [],
   "source": [
    "# we will separate 30% data for testing, remaining 70% will be used to test the model\n",
    "\n",
    "X_train, X_test, y_train, y_test = train_test_split(X, y, test_size=0.3, random_state=123)"
   ]
  },
  {
   "cell_type": "markdown",
   "metadata": {
    "colab_type": "text",
    "id": "rwuYcrTJTWRv"
   },
   "source": [
    "\n",
    "\n",
    "*   To learn more about the parameters and outputs of the Gaussian Naive Bayes classifier, read the [documentation](https://scikit-learn.org/stable/modules/generated/sklearn.naive_bayes.GaussianNB.html) here!\n",
    "*   If the model didn't work well for our input dataset, then maybe we would have tried to find optimal values for the model parameters (i.e., *priors* and *var_smoothing*)\n",
    "\n"
   ]
  },
  {
   "cell_type": "code",
   "execution_count": 6,
   "metadata": {
    "colab": {},
    "colab_type": "code",
    "id": "lyLv-gnfUKBb"
   },
   "outputs": [],
   "source": [
    "# we will use Gaussian (normal distribution) Naive Bayes\n",
    "from sklearn.naive_bayes import GaussianNB\n",
    "\n",
    "# call the model constructor\n",
    "gnb = GaussianNB()\n",
    "\n",
    "# estimates the mean (μ) and standard deviation (σ) from training data\n",
    "model = gnb.fit(X_train, y_train)\n",
    "\n",
    "# check model performance on test data\n",
    "y_predict = model.predict(X_test)"
   ]
  },
  {
   "cell_type": "markdown",
   "metadata": {
    "colab_type": "text",
    "id": "TpUeMOliU7Kk"
   },
   "source": [
    "\n",
    "\n",
    "*   Please look into *y_predict* to see what values the model is predicting!\n",
    "\n"
   ]
  },
  {
   "cell_type": "code",
   "execution_count": 7,
   "metadata": {
    "colab": {
     "base_uri": "https://localhost:8080/",
     "height": 34
    },
    "colab_type": "code",
    "id": "7ShbKKJ4UKBg",
    "outputId": "fd313a71-b104-4f8a-841e-e881c760c229"
   },
   "outputs": [
    {
     "data": {
      "text/plain": [
       "0.9226666666666666"
      ]
     },
     "execution_count": 7,
     "metadata": {},
     "output_type": "execute_result"
    }
   ],
   "source": [
    "# let's check model performance\n",
    "accuracy = model.score(X_test, y_test)\n",
    "accuracy"
   ]
  },
  {
   "cell_type": "markdown",
   "metadata": {
    "colab_type": "text",
    "id": "AlD30veNVn1r"
   },
   "source": [
    "\n",
    "\n",
    "*   Why accuracy is **NOT** a good measure? See [here](https://tryolabs.com/blog/2013/03/25/why-accuracy-alone-bad-measure-classification-tasks-and-what-we-can-do-about-it/)!!!\n",
    "\n"
   ]
  },
  {
   "cell_type": "code",
   "execution_count": 8,
   "metadata": {
    "colab": {},
    "colab_type": "code",
    "id": "bb3HeRP0UKBn"
   },
   "outputs": [],
   "source": [
    "TP=0 # True Positive\n",
    "TN=0 # True Negative\n",
    "FP=0 # False Positive\n",
    "FN=0 # False Negative"
   ]
  },
  {
   "cell_type": "markdown",
   "metadata": {
    "colab_type": "text",
    "id": "6KdM03x_WVzR"
   },
   "source": [
    "\n",
    "\n",
    "*   Learn more about [Confusion Matrix](https://towardsdatascience.com/understanding-confusion-matrix-a9ad42dcfd62)!\n",
    "\n"
   ]
  },
  {
   "cell_type": "code",
   "execution_count": 9,
   "metadata": {
    "colab": {},
    "colab_type": "code",
    "id": "G3nCzkDUUKBr"
   },
   "outputs": [],
   "source": [
    "for i in range (len(y_test)):\n",
    "    if y_test.iloc[i] == y_predict[i]:\n",
    "        if y_predict[i] == 'orange':\n",
    "            TP=TP+1\n",
    "        else:\n",
    "            TN=TN+1\n",
    "    else:\n",
    "        if y_predict[i] == 'grapefruit':\n",
    "            FN=FN+1\n",
    "        else:\n",
    "            FP=FP+1"
   ]
  },
  {
   "cell_type": "markdown",
   "metadata": {
    "colab_type": "text",
    "id": "92l1tVFSbf-F"
   },
   "source": [
    "\n",
    "\n",
    "*   More on [precisiom, recall, and F1-measure](https://towardsdatascience.com/beyond-accuracy-precision-and-recall-3da06bea9f6c)!\n",
    "\n"
   ]
  },
  {
   "cell_type": "code",
   "execution_count": 10,
   "metadata": {
    "colab": {
     "base_uri": "https://localhost:8080/",
     "height": 34
    },
    "colab_type": "code",
    "id": "Pq78erDsUKBw",
    "outputId": "80826413-2297-4608-9a39-41fbeb286422"
   },
   "outputs": [
    {
     "data": {
      "text/plain": [
       "0.9272727272727272"
      ]
     },
     "execution_count": 10,
     "metadata": {},
     "output_type": "execute_result"
    }
   ],
   "source": [
    "# sensitivity/ recall/ TPR (True Positive Rate)\n",
    "TPR = TP/(TP+FN)\n",
    "TPR"
   ]
  },
  {
   "cell_type": "code",
   "execution_count": 11,
   "metadata": {
    "colab": {
     "base_uri": "https://localhost:8080/",
     "height": 34
    },
    "colab_type": "code",
    "id": "8saxYPetUKBz",
    "outputId": "44f7d5bf-0289-4312-f939-3df34efe1e99"
   },
   "outputs": [
    {
     "data": {
      "text/plain": [
       "0.9181518151815181"
      ]
     },
     "execution_count": 11,
     "metadata": {},
     "output_type": "execute_result"
    }
   ],
   "source": [
    "# specificity/ TNR (true negative rate)\n",
    "TNR = TN/(TN+FP)\n",
    "TNR"
   ]
  },
  {
   "cell_type": "code",
   "execution_count": 12,
   "metadata": {
    "colab": {
     "base_uri": "https://localhost:8080/",
     "height": 34
    },
    "colab_type": "code",
    "id": "jSsfVj6VUKB3",
    "outputId": "6b098b52-2175-45f6-93ff-2d7674aa1e48"
   },
   "outputs": [
    {
     "data": {
      "text/plain": [
       "0.9173884077281812"
      ]
     },
     "execution_count": 12,
     "metadata": {},
     "output_type": "execute_result"
    }
   ],
   "source": [
    "# Precision for orange\n",
    "PPV = TP/(TP+FP)\n",
    "PPV"
   ]
  },
  {
   "cell_type": "code",
   "execution_count": 13,
   "metadata": {
    "colab": {
     "base_uri": "https://localhost:8080/",
     "height": 34
    },
    "colab_type": "code",
    "id": "940Mrt8MUKB6",
    "outputId": "b1322f34-03bd-4dd5-fcc3-d37896148942"
   },
   "outputs": [
    {
     "data": {
      "text/plain": [
       "0.9279519679786524"
      ]
     },
     "execution_count": 13,
     "metadata": {},
     "output_type": "execute_result"
    }
   ],
   "source": [
    "# precision for grapefruit\n",
    "NPV = TN/(TN+FN)\n",
    "NPV"
   ]
  },
  {
   "cell_type": "code",
   "execution_count": 14,
   "metadata": {
    "colab": {
     "base_uri": "https://localhost:8080/",
     "height": 34
    },
    "colab_type": "code",
    "id": "W3Wskm4wUKB-",
    "outputId": "8a76e6f9-5a6a-4931-fd3b-13017403a45f"
   },
   "outputs": [
    {
     "data": {
      "text/plain": [
       "0.9223040857334226"
      ]
     },
     "execution_count": 14,
     "metadata": {},
     "output_type": "execute_result"
    }
   ],
   "source": [
    "F1 = 2*TP/(2*TP+FP+FN)\n",
    "F1"
   ]
  },
  {
   "cell_type": "markdown",
   "metadata": {
    "colab_type": "text",
    "id": "763nVKBfapuQ"
   },
   "source": [
    "\n",
    "\n",
    "*   If you have *n* classes then you can use [confusion matrix](https://scikit-learn.org/stable/modules/generated/sklearn.metrics.confusion_matrix.html) available from scikit-learn!\n",
    "\n"
   ]
  }
 ],
 "metadata": {
  "colab": {
   "name": "Naive Bayes.ipynb",
   "provenance": []
  },
  "kernelspec": {
   "display_name": "Python 3",
   "language": "python",
   "name": "python3"
  },
  "language_info": {
   "codemirror_mode": {
    "name": "ipython",
    "version": 3
   },
   "file_extension": ".py",
   "mimetype": "text/x-python",
   "name": "python",
   "nbconvert_exporter": "python",
   "pygments_lexer": "ipython3",
   "version": "3.7.4"
  }
 },
 "nbformat": 4,
 "nbformat_minor": 1
}
